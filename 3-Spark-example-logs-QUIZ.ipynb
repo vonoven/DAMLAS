{
 "cells": [
  {
   "cell_type": "markdown",
   "metadata": {},
   "source": [
    "# Analysis of web server logs with Spark"
   ]
  },
  {
   "cell_type": "code",
   "execution_count": 1,
   "metadata": {
    "collapsed": false
   },
   "outputs": [
    {
     "name": "stdout",
     "output_type": "stream",
     "text": [
      "<pyspark.context.SparkContext object at 0x7f8e7cbf0748>\n",
      "<pyspark.sql.context.SQLContext object at 0x7f8e7cd0f390>\n"
     ]
    }
   ],
   "source": [
    "import os\n",
    "import sys #current as of 9/26/2015\n",
    "import pyspark\n",
    "from pyspark.sql import SQLContext\n",
    "# We can give a name to our app (to find it in Spark WebUI) and configure execution mode\n",
    "# In this case, it is local multicore execution with \"local[*]\"\n",
    "app_name = \"example-logs\"\n",
    "master = \"local[*]\"\n",
    "conf = pyspark.SparkConf().setAppName(app_name).setMaster(master)\n",
    "sc = pyspark.SparkContext(conf=conf)\n",
    "sqlContext = SQLContext(sc)\n",
    "print(sc)\n",
    "print(sqlContext)\n",
    "# Import some libraries to work with dates\n",
    "import dateutil.parser\n",
    "import dateutil.relativedelta as dateutil_rd"
   ]
  },
  {
   "cell_type": "markdown",
   "metadata": {},
   "source": [
    "# the data per country\n",
    "date and time| address| country| Success or failure\n",
    "\n",
    "__DATA__\n",
    "The data for this quiz is located at https://www.dropbox.com/s/ul1shmad5rdy29m/example.log?dl=0"
   ]
  },
  {
   "cell_type": "code",
   "execution_count": 2,
   "metadata": {
    "collapsed": false
   },
   "outputs": [
    {
     "name": "stdout",
     "output_type": "stream",
     "text": [
      "2015-12-10T13:36:47|86.88.135.133|FR|SUCCESS\r\n",
      "2015-12-10T13:36:47|25.53.251.132|FR|SUCCESS\r\n",
      "2015-12-10T13:36:47|224.251.26.196|FR|SUCCESS\r\n",
      "2015-12-10T13:36:47|72.96.92.96|FR|SUCCESS\r\n",
      "2015-12-10T13:36:47|93.159.208.231|FR|SUCCESS\r\n",
      "2015-12-10T13:36:47|200.85.209.180|FR|SUCCESS\r\n",
      "2015-12-10T13:36:47|117.35.65.164|FR|SUCCESS\r\n",
      "2015-12-10T13:36:47|164.86.143.136|FR|SUCCESS\r\n",
      "2015-12-10T13:36:47|56.160.244.16|FR|SUCCESS\r\n",
      "2015-12-10T13:36:47|205.111.122.245|FR|SUCCESS\r\n"
     ]
    }
   ],
   "source": [
    "!head ./data/example.log "
   ]
  },
  {
   "cell_type": "code",
   "execution_count": 3,
   "metadata": {
    "collapsed": false
   },
   "outputs": [
    {
     "name": "stdout",
     "output_type": "stream",
     "text": [
      "31210897\n"
     ]
    }
   ],
   "source": [
    "# Read log file\n",
    "logs = sc.textFile(\"./data/example.log\")\n",
    "\n",
    "# Print total number of lines\n",
    "logs.count()\n",
    "\n",
    "# Mostrar las 15 primeras lineas\n",
    "logs.take(15)\n",
    "\n",
    "# Print total lenght of file (chars)\n",
    "line_len = logs.map(lambda s: len(s))\n",
    "total_len = line_len.reduce(lambda a, b: a + b)\n",
    "print(total_len)"
   ]
  },
  {
   "cell_type": "code",
   "execution_count": 4,
   "metadata": {
    "collapsed": false
   },
   "outputs": [
    {
     "data": {
      "text/plain": [
       "PythonRDD[5] at RDD at PythonRDD.scala:43"
      ]
     },
     "execution_count": 4,
     "metadata": {},
     "output_type": "execute_result"
    }
   ],
   "source": [
    "# Separate items from each line and store results in cache\n",
    "# to speed up subsequent access\n",
    "line_items = logs.map(lambda line: line.split(\"|\"))\n",
    "line_items.cache()"
   ]
  },
  {
   "cell_type": "code",
   "execution_count": 6,
   "metadata": {
    "collapsed": false
   },
   "outputs": [],
   "source": [
    "import numpy as np\n",
    "import matplotlib.pyplot as plt\n",
    "from sklearn import linear_model\n",
    "%matplotlib inline\n",
    "\n",
    "\n",
    "def plot(delays, measureStr):\n",
    "    \"\"\"\n",
    "    Show a bar chart of the total delay per airline\n",
    "    \"\"\"\n",
    "    airlines = [d[0] for d in delays]\n",
    "    minutes  = [d[1] for d in delays]\n",
    "    index    = list(xrange(len(airlines)))\n",
    "\n",
    "    fig, axe = plt.subplots()\n",
    "    bars = axe.barh(index, minutes)\n",
    "\n",
    "    # Add the total minutes to the right\n",
    "    for idx, air, min in zip(index, airlines, minutes):\n",
    "        if min > 0:\n",
    "            bars[idx].set_color('#d9230f')\n",
    "            axe.annotate(\" %0.0f min\" % min, xy=(min+1, idx+0.5), va='center')\n",
    "        else:\n",
    "            bars[idx].set_color('#469408')\n",
    "            axe.annotate(\" %0.0f\" % min, xy=(10, idx+0.5), va='center')\n",
    "\n",
    "    # Set the ticks\n",
    "    ticks = plt.yticks([idx+ 0.5 for idx in index], airlines)\n",
    "    xt = plt.xticks()[0]\n",
    "    plt.xticks(xt, [' '] * len(xt))\n",
    "\n",
    "    #minimize chartjunk\n",
    "    plt.grid(axis = 'x', color ='white', linestyle='-')\n",
    "\n",
    "    plt.title(measureStr)\n",
    "    plt.show()\n",
    "\n"
   ]
  },
  {
   "cell_type": "markdown",
   "metadata": {},
   "source": [
    "# QUIZ:  Exploratory Data Analysis"
   ]
  },
  {
   "cell_type": "code",
   "execution_count": 25,
   "metadata": {
    "collapsed": false
   },
   "outputs": [
    {
     "name": "stdout",
     "output_type": "stream",
     "text": [
      "230\n"
     ]
    }
   ],
   "source": [
    "# How many log entries by  country\n",
    "# Format of data is as follows:   date and time| address| country| Success or failure\n",
    "logs = sc.textFile(\"./data/example.log\")\n",
    "counts = logs.map(lambda line: line.split(\"|\")[2])\n",
    "\n",
    "#How many countries\n",
    "cnt = 0\n",
    "for i in counts.distinct().collect():\n",
    "    cnt += 1\n",
    "print (cnt)\n",
    "#plot top 10 countries freiq\n",
    "#plot(logFileCountsPerCountry[:10], \"Number of logfile entries per country\")\n"
   ]
  },
  {
   "cell_type": "code",
   "execution_count": 31,
   "metadata": {
    "collapsed": false
   },
   "outputs": [
    {
     "name": "stdout",
     "output_type": "stream",
     "text": [
      "230\n"
     ]
    },
    {
     "ename": "TypeError",
     "evalue": "'PipelinedRDD' object is not subscriptable",
     "output_type": "error",
     "traceback": [
      "\u001b[1;31m\u001b[0m",
      "\u001b[1;31mTypeError\u001b[0mTraceback (most recent call last)",
      "\u001b[1;32m<ipython-input-31-68ddb0908c15>\u001b[0m in \u001b[0;36m<module>\u001b[1;34m()\u001b[0m\n\u001b[0;32m     10\u001b[0m \u001b[0mprint\u001b[0m \u001b[1;33m(\u001b[0m\u001b[0mcnt\u001b[0m\u001b[1;33m)\u001b[0m\u001b[1;33m\u001b[0m\u001b[0m\n\u001b[0;32m     11\u001b[0m \u001b[1;31m#plot top 10 countries freiq\u001b[0m\u001b[1;33m\u001b[0m\u001b[1;33m\u001b[0m\u001b[0m\n\u001b[1;32m---> 12\u001b[1;33m \u001b[0mplot\u001b[0m\u001b[1;33m(\u001b[0m\u001b[0mlogFileCountsPerCountry\u001b[0m\u001b[1;33m[\u001b[0m\u001b[1;33m:\u001b[0m\u001b[1;36m10\u001b[0m\u001b[1;33m]\u001b[0m\u001b[1;33m,\u001b[0m \u001b[1;34m\"Number of logfile entries per country\"\u001b[0m\u001b[1;33m)\u001b[0m\u001b[1;33m\u001b[0m\u001b[0m\n\u001b[0m",
      "\u001b[1;31mTypeError\u001b[0m: 'PipelinedRDD' object is not subscriptable"
     ]
    }
   ],
   "source": [
    "# How many log entries by  country\n",
    "# Format of data is as follows:   date and time| address| country| Success or failure\n",
    "logs = sc.textFile(\"./data/example.log\")\n",
    "logFileCountsPerCountry = logs.map(lambda line: line.split(\"|\")[2]) \\\n",
    "    .map(lambda country: (country, 1)) \\\n",
    "    .reduceByKey(lambda a, b: a + b, 1) \\\n",
    "    .sortBy(lambda a: -a[1])\n",
    "\n",
    "#How many countries\n",
    "cnt = 0\n",
    "for i in logFileCountsPerCountry.distinct().collect():\n",
    "    cnt += 1\n",
    "print (cnt)\n",
    "#plot top 10 countries freiq\n",
    "plot(logFileCountsPerCountry[:10], \"Number of logfile entries per country\")\n"
   ]
  },
  {
   "cell_type": "code",
   "execution_count": 10,
   "metadata": {
    "collapsed": false
   },
   "outputs": [
    {
     "name": "stdout",
     "output_type": "stream",
     "text": [
      " country\n"
     ]
    }
   ],
   "source": [
    "line = \"date and time| address| country| Success or failure\"\n",
    "print (line.split(\"|\")[2])"
   ]
  },
  {
   "cell_type": "code",
   "execution_count": 17,
   "metadata": {
    "collapsed": false
   },
   "outputs": [
    {
     "name": "stdout",
     "output_type": "stream",
     "text": [
      "0\n"
     ]
    }
   ],
   "source": [
    "cnt = 0\n",
    "print (cnt)"
   ]
  },
  {
   "cell_type": "code",
   "execution_count": null,
   "metadata": {
    "collapsed": true
   },
   "outputs": [],
   "source": []
  }
 ],
 "metadata": {
  "anaconda-cloud": {},
  "kernelspec": {
   "display_name": "Python 3",
   "language": "python",
   "name": "python3"
  },
  "language_info": {
   "codemirror_mode": {
    "name": "ipython",
    "version": 3
   },
   "file_extension": ".py",
   "mimetype": "text/x-python",
   "name": "python",
   "nbconvert_exporter": "python",
   "pygments_lexer": "ipython3",
   "version": "3.5.1"
  },
  "widgets": {
   "state": {},
   "version": "1.1.2"
  }
 },
 "nbformat": 4,
 "nbformat_minor": 0
}
