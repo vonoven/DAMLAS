{
 "cells": [
  {
   "cell_type": "code",
   "execution_count": 1,
   "metadata": {
    "collapsed": false
   },
   "outputs": [
    {
     "name": "stdout",
     "output_type": "stream",
     "text": [
      "<pyspark.context.SparkContext object at 0x7fee581cfe10>\n",
      "<pyspark.sql.context.SQLContext object at 0x7fee501454a8>\n"
     ]
    }
   ],
   "source": [
    "import os\n",
    "import sys #current as of 9/26/2015\n",
    "import pyspark\n",
    "from pyspark.sql import SQLContext\n",
    "# We can give a name to our app (to find it in Spark WebUI) and configure execution mode\n",
    "# In this case, it is local multicore execution with \"local[*]\"\n",
    "app_name = \"example-logs\"\n",
    "master = \"local[*]\"\n",
    "conf = pyspark.SparkConf().setAppName(app_name).setMaster(master)\n",
    "sc = pyspark.SparkContext(conf=conf)\n",
    "sqlContext = SQLContext(sc)\n",
    "print(sc)\n",
    "print(sqlContext)\n",
    "# Import some libraries to work with dates\n",
    "import dateutil.parser\n",
    "import dateutil.relativedelta as dateutil_rd"
   ]
  },
  {
   "cell_type": "code",
   "execution_count": null,
   "metadata": {
    "collapsed": true
   },
   "outputs": [],
   "source": [
    "from collections import namedtuple\n",
    "import numpy as np\n",
    "Point = namedtuple('Point', 'x y')\n",
    "\n",
    "def readPoint(line):\n",
    "    d = line.split(',')\n",
    "    x = [float(i) for i in d[1:]]\n",
    "    x.append(1.0) #bias term\n",
    "    return Point(x, float(d[0]))\n",
    "\n",
    "def linearRegressionGD(data, wInitial=None, learningRate=0.05, iterations=50):\n",
    "    featureLen = len(data.take(1)[0].x)\n",
    "    n = data.count()\n",
    "    if wInitial is None:\n",
    "        w.np.random.normal(size=featureLen) # w should be broadcasted if it is large\n",
    "    else:\n",
    "        w = wInitial\n",
    "    for i in range(iterations):\n",
    "        wBroadcast = sc.broadcast(w)\n",
    "        gradient = data.map(lambda p: -2 * (p.y * np.dot(wBroadcast.value, p.x)) * np.array(p.x)) \\\n",
    "            .reduce(lambda a, b: a + b)\n",
    "        w = w - learningRate * gradient/n\n",
    "    return w\n",
    "\n",
    "data = sc.textFile('data.csv').map(readPoint).cache()\n",
    "linearRegressionGD(data)"
   ]
  }
 ],
 "metadata": {
  "kernelspec": {
   "display_name": "Python 3",
   "language": "python",
   "name": "python3"
  },
  "language_info": {
   "codemirror_mode": {
    "name": "ipython",
    "version": 3
   },
   "file_extension": ".py",
   "mimetype": "text/x-python",
   "name": "python",
   "nbconvert_exporter": "python",
   "pygments_lexer": "ipython3",
   "version": "3.5.1"
  },
  "widgets": {
   "state": {},
   "version": "1.1.2"
  }
 },
 "nbformat": 4,
 "nbformat_minor": 0
}
